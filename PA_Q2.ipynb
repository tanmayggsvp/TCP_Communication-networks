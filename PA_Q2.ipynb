{
 "cells": [
  {
   "cell_type": "code",
   "execution_count": 1,
   "id": "782969eb",
   "metadata": {},
   "outputs": [],
   "source": [
    "import numpy as np\n",
    "import scipy.stats\n",
    "import matplotlib.pyplot as plt\n",
    "%matplotlib inline"
   ]
  },
  {
   "cell_type": "code",
   "execution_count": 2,
   "id": "ec143373",
   "metadata": {},
   "outputs": [],
   "source": [
    "import math\n",
    "def processor_sharing(cap,Q,t):\n",
    "    if math.floor(cap/K) == (cap/K):\n",
    "        l = cap/K - 1\n",
    "    if math.floor(cap/K)<(cap/K):\n",
    "        l = floor(cap/K)\n",
    "    for i in range(1,K+1):\n",
    "        Q[i][t] = max(Q[i][t] - l,0)\n",
    "    for i in range(1,(cap - l*K) + 1):\n",
    "        Q[i][t] = max(Q[i][t] - 1,0)\n",
    "    return Q"
   ]
  },
  {
   "cell_type": "code",
   "execution_count": 3,
   "id": "c3e44ce7",
   "metadata": {},
   "outputs": [],
   "source": [
    "def maxwt_scheduling(cap,Q,t):\n",
    "    maxi = Q[1][t]\n",
    "    for i in range(1,K+1):\n",
    "        if Q[i][t]>=maxi:\n",
    "            maxi = Q[i][t]\n",
    "            i1 = i\n",
    "    Q[i1][t] = max(Q[i1][t] - cap, 0)\n",
    "    return Q\n"
   ]
  },
  {
   "cell_type": "code",
   "execution_count": 4,
   "id": "a175598a",
   "metadata": {},
   "outputs": [],
   "source": [
    "def water_filling(cap,Q,t):\n",
    "    served = 0\n",
    "    maxi = Q[1][t]\n",
    "    for i in range(1,K+1):\n",
    "        if Q[i][t]>=maxi:\n",
    "            maxi = Q[i][t]\n",
    "            i1 = i\n",
    "    maxi2 = Q[1][t]\n",
    "    for i in range(1,K+1):\n",
    "        if Q[i][t]>=maxi2 and i!=i1:\n",
    "            maxi2 = Q[i][t]\n",
    "            i2 = i\n",
    "    while(Q[i1][t] > Q[i2][t]):\n",
    "        Q[i1][t] = Q[i1][t]-1\n",
    "        served +=1\n",
    "    left = cap - served\n",
    "    while (left>0):\n",
    "        Q[i1][t] = Q[i1][t]-1\n",
    "        Q[i2][t] = Q[i2][t]-1\n",
    "        left = left - 2\n",
    "    return Q"
   ]
  },
  {
   "cell_type": "code",
   "execution_count": null,
   "id": "82f87bf7",
   "metadata": {},
   "outputs": [],
   "source": [
    "def update_arrival(K,R,p,N,T):\n",
    "    arrival_times = []\n",
    "    served_times = []\n",
    "    p_t = [[p for i in range(K)] for j in range(T)]\n",
    "    Q = [][]\n",
    "    avg_T = [0]\n",
    "    delay_D = np.zeros((K,len(arrival_times), dtype=float)\n",
    "    n_served = []\n",
    "    S_t = []\n",
    "    cap = scipy.stats.binom(N,(K/N))\n",
    "    S_t[t] = cap.rvs()\n",
    "    for t in range(T):\n",
    "        \n",
    "        for i in range(K):\n",
    "            if np.random.rand()<p_t[i][t]:\n",
    "                arrival = 1\n",
    "                arrival_times.append(t)\n",
    "            #for delay, it is incremented for the latest packets if they are not served in one time slot\n",
    "            \n",
    "            for j in range(served_num[i], arrived_num[i]):\n",
    "                delay_D[i][j] += 1\n",
    "            pack_num = arrived_num[i]\n",
    "            if pack_num > 1:\n",
    "                avg_T[i][pack_num-1] = 0.9*avg_T[i][pack_num-2] + 0.1*delay_D[i][pack_num-1]\n",
    "            elif pack_num == 1:\n",
    "               avg_T[i][pack_num-1] = 0.1*delay_D[i][pack_num-1]\n",
    "            if arrival_times.pop()< (t-math.floor(1.2*avg_T[i][served_num[i]])):\n",
    "                       p_t[i][t+1] = (2*p_t[i][t])/3\n",
    "            \n",
    "                       \n",
    "             \n",
    "        \n",
    "        \n",
    "            "
   ]
  }
 ],
 "metadata": {
  "kernelspec": {
   "display_name": "Python 3",
   "language": "python",
   "name": "python3"
  },
  "language_info": {
   "codemirror_mode": {
    "name": "ipython",
    "version": 3
   },
   "file_extension": ".py",
   "mimetype": "text/x-python",
   "name": "python",
   "nbconvert_exporter": "python",
   "pygments_lexer": "ipython3",
   "version": "3.8.8"
  }
 },
 "nbformat": 4,
 "nbformat_minor": 5
}
